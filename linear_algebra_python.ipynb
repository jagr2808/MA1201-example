{
 "cells": [
  {
   "cell_type": "markdown",
   "id": "c1a8cd3d",
   "metadata": {},
   "source": [
    "# Lineær algebra i Python\n",
    "Her skal vi se hvordan vi kan gjøre lineær algebra i Python ved hjelp av biblioteket SymPy. SymPy er et værktøy for symbolisk regning og gir eksakte svar. "
   ]
  },
  {
   "cell_type": "code",
   "execution_count": 1,
   "id": "b6ee8341",
   "metadata": {},
   "outputs": [],
   "source": [
    "# Vi importerer alt fra SymPy\n",
    "from sympy import *\n",
    "\n",
    "# Denne koden gjør at matriser printes med LaTeX\n",
    "init_printing(use_latex = 'mathjax')"
   ]
  },
  {
   "cell_type": "code",
   "execution_count": 2,
   "id": "faac6944",
   "metadata": {},
   "outputs": [],
   "source": [
    "# Vi definerer matriser\n",
    "M = Matrix([\n",
    "    [1,2,3],\n",
    "    [4,5,6],\n",
    "    [7,8,9]\n",
    "])\n",
    "A = Matrix([\n",
    "    [1,0],\n",
    "    [0,1],\n",
    "    [0,0]\n",
    "])"
   ]
  },
  {
   "cell_type": "code",
   "execution_count": 3,
   "id": "2413befc",
   "metadata": {},
   "outputs": [
    {
     "data": {
      "text/latex": [
       "$\\displaystyle \\left( \\left[\\begin{matrix}1 & 2 & 3\\\\4 & 5 & 6\\\\7 & 8 & 9\\end{matrix}\\right], \\  \\left[\\begin{matrix}1 & 0\\\\0 & 1\\\\0 & 0\\end{matrix}\\right]\\right)$"
      ],
      "text/plain": [
       "⎛⎡1  2  3⎤  ⎡1  0⎤⎞\n",
       "⎜⎢       ⎥  ⎢    ⎥⎟\n",
       "⎜⎢4  5  6⎥, ⎢0  1⎥⎟\n",
       "⎜⎢       ⎥  ⎢    ⎥⎟\n",
       "⎝⎣7  8  9⎦  ⎣0  0⎦⎠"
      ]
     },
     "execution_count": 3,
     "metadata": {},
     "output_type": "execute_result"
    }
   ],
   "source": [
    "M, A"
   ]
  },
  {
   "cell_type": "code",
   "execution_count": 4,
   "id": "2fab34ee",
   "metadata": {},
   "outputs": [
    {
     "data": {
      "text/latex": [
       "$\\displaystyle \\left[\\begin{matrix}1 & 2\\\\4 & 5\\\\7 & 8\\end{matrix}\\right]$"
      ],
      "text/plain": [
       "⎡1  2⎤\n",
       "⎢    ⎥\n",
       "⎢4  5⎥\n",
       "⎢    ⎥\n",
       "⎣7  8⎦"
      ]
     },
     "execution_count": 4,
     "metadata": {},
     "output_type": "execute_result"
    }
   ],
   "source": [
    "# Matriseprodukt\n",
    "M*A"
   ]
  },
  {
   "cell_type": "code",
   "execution_count": 5,
   "id": "12ea4898",
   "metadata": {},
   "outputs": [
    {
     "data": {
      "text/latex": [
       "$\\displaystyle \\left( \\left[\\begin{matrix}1 & 0 & -1\\\\0 & 1 & 2\\\\0 & 0 & 0\\end{matrix}\\right], \\  \\left( 0, \\  1\\right)\\right)$"
      ],
      "text/plain": [
       "⎛⎡1  0  -1⎤        ⎞\n",
       "⎜⎢        ⎥        ⎟\n",
       "⎜⎢0  1  2 ⎥, (0, 1)⎟\n",
       "⎜⎢        ⎥        ⎟\n",
       "⎝⎣0  0  0 ⎦        ⎠"
      ]
     },
     "execution_count": 5,
     "metadata": {},
     "output_type": "execute_result"
    }
   ],
   "source": [
    "# Vi radreduserer M\n",
    "M.rref()"
   ]
  },
  {
   "cell_type": "code",
   "execution_count": 6,
   "id": "61923c4a",
   "metadata": {},
   "outputs": [
    {
     "data": {
      "text/latex": [
       "$\\displaystyle \\left[\\begin{matrix}4\\\\10\\\\16\\end{matrix}\\right]$"
      ],
      "text/plain": [
       "⎡4 ⎤\n",
       "⎢  ⎥\n",
       "⎢10⎥\n",
       "⎢  ⎥\n",
       "⎣16⎦"
      ]
     },
     "execution_count": 6,
     "metadata": {},
     "output_type": "execute_result"
    }
   ],
   "source": [
    "# Vi definerer en vektor\n",
    "b = Matrix([4,10,16])\n",
    "b"
   ]
  },
  {
   "cell_type": "code",
   "execution_count": 7,
   "id": "03e6bfe9",
   "metadata": {},
   "outputs": [
    {
     "data": {
      "text/latex": [
       "$\\displaystyle \\left[\\begin{matrix}0\\\\2\\end{matrix}\\right]$"
      ],
      "text/plain": [
       "⎡0⎤\n",
       "⎢ ⎥\n",
       "⎣2⎦"
      ]
     },
     "execution_count": 7,
     "metadata": {},
     "output_type": "execute_result"
    }
   ],
   "source": [
    "# Vi bruker 'solve' får å finne den UNIKE løsningen\n",
    "(M*A).solve(b)"
   ]
  },
  {
   "cell_type": "code",
   "execution_count": 8,
   "id": "ccbc68ef",
   "metadata": {},
   "outputs": [
    {
     "data": {
      "text/latex": [
       "$\\displaystyle \\left( \\left[\\begin{matrix}\\tau_{0}\\\\2 - 2 \\tau_{0}\\\\\\tau_{0}\\end{matrix}\\right], \\  \\left[\\begin{matrix}\\tau_{0}\\end{matrix}\\right]\\right)$"
      ],
      "text/plain": [
       "⎛⎡   τ₀   ⎤      ⎞\n",
       "⎜⎢        ⎥      ⎟\n",
       "⎜⎢2 - 2⋅τ₀⎥, [τ₀]⎟\n",
       "⎜⎢        ⎥      ⎟\n",
       "⎝⎣   τ₀   ⎦      ⎠"
      ]
     },
     "execution_count": 8,
     "metadata": {},
     "output_type": "execute_result"
    }
   ],
   "source": [
    "# Er løsnignen ikke unik bruker vi 'gauss_jordan_solve' og får en parametrisering av løsnignene\n",
    "M.gauss_jordan_solve(b)"
   ]
  },
  {
   "cell_type": "code",
   "execution_count": 9,
   "id": "b24a0441",
   "metadata": {},
   "outputs": [
    {
     "ename": "NonInvertibleMatrixError",
     "evalue": "Matrix det == 0; not invertible.",
     "output_type": "error",
     "traceback": [
      "\u001b[0;31m---------------------------------------------------------------------------\u001b[0m",
      "\u001b[0;31mNonInvertibleMatrixError\u001b[0m                  Traceback (most recent call last)",
      "File \u001b[0;32m~/Library/Python/3.8/lib/python/site-packages/sympy/matrices/solvers.py:754\u001b[0m, in \u001b[0;36m_solve\u001b[0;34m(M, rhs, method)\u001b[0m\n\u001b[1;32m    753\u001b[0m     \u001b[38;5;28;01mif\u001b[39;00m param:\n\u001b[0;32m--> 754\u001b[0m         \u001b[38;5;28;01mraise\u001b[39;00m NonInvertibleMatrixError(\u001b[38;5;124m\"\u001b[39m\u001b[38;5;124mMatrix det == 0; not invertible. \u001b[39m\u001b[38;5;124m\"\u001b[39m\n\u001b[1;32m    755\u001b[0m         \u001b[38;5;124m\"\u001b[39m\u001b[38;5;124mTry ``M.gauss_jordan_solve(rhs)`` to obtain a parametric solution.\u001b[39m\u001b[38;5;124m\"\u001b[39m)\n\u001b[1;32m    757\u001b[0m \u001b[38;5;28;01mexcept\u001b[39;00m \u001b[38;5;167;01mValueError\u001b[39;00m:\n",
      "\u001b[0;31mNonInvertibleMatrixError\u001b[0m: Matrix det == 0; not invertible. Try ``M.gauss_jordan_solve(rhs)`` to obtain a parametric solution.",
      "\nDuring handling of the above exception, another exception occurred:\n",
      "\u001b[0;31mNonInvertibleMatrixError\u001b[0m                  Traceback (most recent call last)",
      "Cell \u001b[0;32mIn [9], line 2\u001b[0m\n\u001b[1;32m      1\u001b[0m \u001b[38;5;66;03m# Her er løsningen ikke unik og vi får feilmelding\u001b[39;00m\n\u001b[0;32m----> 2\u001b[0m \u001b[43mM\u001b[49m\u001b[38;5;241;43m.\u001b[39;49m\u001b[43msolve\u001b[49m\u001b[43m(\u001b[49m\u001b[43mb\u001b[49m\u001b[43m)\u001b[49m\n",
      "File \u001b[0;32m~/Library/Python/3.8/lib/python/site-packages/sympy/matrices/matrices.py:2186\u001b[0m, in \u001b[0;36mMatrixBase.solve\u001b[0;34m(self, rhs, method)\u001b[0m\n\u001b[1;32m   2185\u001b[0m \u001b[38;5;28;01mdef\u001b[39;00m \u001b[38;5;21msolve\u001b[39m(\u001b[38;5;28mself\u001b[39m, rhs, method\u001b[38;5;241m=\u001b[39m\u001b[38;5;124m'\u001b[39m\u001b[38;5;124mGJ\u001b[39m\u001b[38;5;124m'\u001b[39m):\n\u001b[0;32m-> 2186\u001b[0m     \u001b[38;5;28;01mreturn\u001b[39;00m \u001b[43m_solve\u001b[49m\u001b[43m(\u001b[49m\u001b[38;5;28;43mself\u001b[39;49m\u001b[43m,\u001b[49m\u001b[43m \u001b[49m\u001b[43mrhs\u001b[49m\u001b[43m,\u001b[49m\u001b[43m \u001b[49m\u001b[43mmethod\u001b[49m\u001b[38;5;241;43m=\u001b[39;49m\u001b[43mmethod\u001b[49m\u001b[43m)\u001b[49m\n",
      "File \u001b[0;32m~/Library/Python/3.8/lib/python/site-packages/sympy/matrices/solvers.py:758\u001b[0m, in \u001b[0;36m_solve\u001b[0;34m(M, rhs, method)\u001b[0m\n\u001b[1;32m    754\u001b[0m             \u001b[38;5;28;01mraise\u001b[39;00m NonInvertibleMatrixError(\u001b[38;5;124m\"\u001b[39m\u001b[38;5;124mMatrix det == 0; not invertible. \u001b[39m\u001b[38;5;124m\"\u001b[39m\n\u001b[1;32m    755\u001b[0m             \u001b[38;5;124m\"\u001b[39m\u001b[38;5;124mTry ``M.gauss_jordan_solve(rhs)`` to obtain a parametric solution.\u001b[39m\u001b[38;5;124m\"\u001b[39m)\n\u001b[1;32m    757\u001b[0m     \u001b[38;5;28;01mexcept\u001b[39;00m \u001b[38;5;167;01mValueError\u001b[39;00m:\n\u001b[0;32m--> 758\u001b[0m         \u001b[38;5;28;01mraise\u001b[39;00m NonInvertibleMatrixError(\u001b[38;5;124m\"\u001b[39m\u001b[38;5;124mMatrix det == 0; not invertible.\u001b[39m\u001b[38;5;124m\"\u001b[39m)\n\u001b[1;32m    760\u001b[0m     \u001b[38;5;28;01mreturn\u001b[39;00m soln\n\u001b[1;32m    762\u001b[0m \u001b[38;5;28;01melif\u001b[39;00m method \u001b[38;5;241m==\u001b[39m \u001b[38;5;124m'\u001b[39m\u001b[38;5;124mLU\u001b[39m\u001b[38;5;124m'\u001b[39m:\n",
      "\u001b[0;31mNonInvertibleMatrixError\u001b[0m: Matrix det == 0; not invertible."
     ]
    }
   ],
   "source": [
    "# Her er løsningen ikke unik og vi får feilmelding\n",
    "M.solve(b)"
   ]
  },
  {
   "cell_type": "markdown",
   "id": "6e9b03e6",
   "metadata": {},
   "source": [
    "# Inverse og transponert"
   ]
  },
  {
   "cell_type": "code",
   "execution_count": 10,
   "id": "fdcb6171",
   "metadata": {},
   "outputs": [
    {
     "data": {
      "text/latex": [
       "$\\displaystyle \\left[\\begin{matrix}1 & 1\\\\1 & -1\\end{matrix}\\right]$"
      ],
      "text/plain": [
       "⎡1  1 ⎤\n",
       "⎢     ⎥\n",
       "⎣1  -1⎦"
      ]
     },
     "execution_count": 10,
     "metadata": {},
     "output_type": "execute_result"
    }
   ],
   "source": [
    "A = Matrix([\n",
    "    [1, 1],\n",
    "    [1, -1]\n",
    "])\n",
    "A"
   ]
  },
  {
   "cell_type": "code",
   "execution_count": 11,
   "id": "72378d53",
   "metadata": {},
   "outputs": [
    {
     "data": {
      "text/latex": [
       "$\\displaystyle \\left[\\begin{matrix}\\frac{1}{2} & \\frac{1}{2}\\\\\\frac{1}{2} & - \\frac{1}{2}\\end{matrix}\\right]$"
      ],
      "text/plain": [
       "⎡1/2  1/2 ⎤\n",
       "⎢         ⎥\n",
       "⎣1/2  -1/2⎦"
      ]
     },
     "execution_count": 11,
     "metadata": {},
     "output_type": "execute_result"
    }
   ],
   "source": [
    "# Vi regner ut inversen til A\n",
    "A.inv()"
   ]
  },
  {
   "cell_type": "code",
   "execution_count": 12,
   "id": "8783ec0e",
   "metadata": {},
   "outputs": [
    {
     "data": {
      "text/latex": [
       "$\\displaystyle \\left[\\begin{matrix}1 & 1\\\\1 & -1\\end{matrix}\\right]$"
      ],
      "text/plain": [
       "⎡1  1 ⎤\n",
       "⎢     ⎥\n",
       "⎣1  -1⎦"
      ]
     },
     "execution_count": 12,
     "metadata": {},
     "output_type": "execute_result"
    }
   ],
   "source": [
    "# Vi regenr ut A transponert\n",
    "A.T"
   ]
  },
  {
   "cell_type": "markdown",
   "id": "035b0034",
   "metadata": {},
   "source": [
    "# Egenverdier og egenvektorer"
   ]
  },
  {
   "cell_type": "code",
   "execution_count": 13,
   "id": "06014dcb",
   "metadata": {},
   "outputs": [
    {
     "data": {
      "text/latex": [
       "$\\displaystyle \\left\\{ - \\sqrt{2} : 1, \\  \\sqrt{2} : 1\\right\\}$"
      ],
      "text/plain": [
       "{-√2: 1, √2: 1}"
      ]
     },
     "execution_count": 13,
     "metadata": {},
     "output_type": "execute_result"
    }
   ],
   "source": [
    "# Vi beregner egenverdier med multiplisitet\n",
    "A.eigenvals()"
   ]
  },
  {
   "cell_type": "code",
   "execution_count": 14,
   "id": "34ee6fa1",
   "metadata": {},
   "outputs": [
    {
     "data": {
      "text/latex": [
       "$\\displaystyle \\left[ \\left( - \\sqrt{2}, \\  1, \\  \\left[ \\left[\\begin{matrix}1 - \\sqrt{2}\\\\1\\end{matrix}\\right]\\right]\\right), \\  \\left( \\sqrt{2}, \\  1, \\  \\left[ \\left[\\begin{matrix}1 + \\sqrt{2}\\\\1\\end{matrix}\\right]\\right]\\right)\\right]$"
      ],
      "text/plain": [
       "⎡⎛        ⎡⎡1 - √2⎤⎤⎞  ⎛       ⎡⎡1 + √2⎤⎤⎞⎤\n",
       "⎢⎜-√2, 1, ⎢⎢      ⎥⎥⎟, ⎜√2, 1, ⎢⎢      ⎥⎥⎟⎥\n",
       "⎣⎝        ⎣⎣  1   ⎦⎦⎠  ⎝       ⎣⎣  1   ⎦⎦⎠⎦"
      ]
     },
     "execution_count": 14,
     "metadata": {},
     "output_type": "execute_result"
    }
   ],
   "source": [
    "# Vi beregner egenvektorer\n",
    "A.eigenvects()"
   ]
  }
 ],
 "metadata": {
  "kernelspec": {
   "display_name": "Python 3 (ipykernel)",
   "language": "python",
   "name": "python3"
  },
  "language_info": {
   "codemirror_mode": {
    "name": "ipython",
    "version": 3
   },
   "file_extension": ".py",
   "mimetype": "text/x-python",
   "name": "python",
   "nbconvert_exporter": "python",
   "pygments_lexer": "ipython3",
   "version": "3.8.9"
  }
 },
 "nbformat": 4,
 "nbformat_minor": 5
}
